{
 "cells": [
  {
   "attachments": {},
   "cell_type": "markdown",
   "metadata": {},
   "source": [
    "# Setup"
   ]
  },
  {
   "cell_type": "code",
   "execution_count": 24,
   "metadata": {},
   "outputs": [],
   "source": [
    "# Import packages\n",
    "import numpy as np\n",
    "import pandas as pd\n",
    "import time\n",
    "from urllib.request import urlopen\n",
    "from bs4 import BeautifulSoup\n",
    "import requests\n",
    "import re\n",
    "\n",
    "# Setup Chrome\n",
    "from selenium import webdriver\n",
    "chrome_options = webdriver.ChromeOptions()\n",
    "chrome_options.add_argument('--headless')\n",
    "chrome_options.add_argument('--no-sandbox')\n",
    "chrome_options.add_argument('--disable-dev-shm-usage')\n",
    "chrome_options.add_argument('--lang=es')\n",
    "chrome_options.add_argument(\"--disable-extensions\")\n",
    "driver = webdriver.Chrome(options=chrome_options)\n",
    "\n",
    "# from selenium.webdriver.common.keys import Keys"
   ]
  },
  {
   "attachments": {},
   "cell_type": "markdown",
   "metadata": {},
   "source": [
    "# Scrape data"
   ]
  },
  {
   "cell_type": "code",
   "execution_count": 25,
   "metadata": {},
   "outputs": [],
   "source": [
    "def handle_score(score_string):\n",
    "    pattern = r\"Văn: ([\\d,]+) Toán: ([\\d,]+) Ngoại Ngữ: ([\\d,]+) Môn Chuyên: ([\\d,]+)\"\n",
    "\n",
    "    # Extract the scores\n",
    "    match_pattern = re.match(pattern, score_string)\n",
    "\n",
    "    if match_pattern:\n",
    "        literature_score = match_pattern.group(1)\n",
    "        mathematic_score = match_pattern.group(2)\n",
    "        language_score = match_pattern.group(3)\n",
    "        special_subject_score = match_pattern.group(4)\n",
    "        return (literature_score, mathematic_score, language_score, special_subject_score)\n",
    "    else:\n",
    "        return (None, None, None, None)"
   ]
  },
  {
   "cell_type": "code",
   "execution_count": 26,
   "metadata": {},
   "outputs": [],
   "source": [
    "bangdiem_dict = {}\n",
    "time_dict = {}\n",
    "website_link = 'http://diemthi.hcm.edu.vn/'"
   ]
  },
  {
   "cell_type": "code",
   "execution_count": 27,
   "metadata": {},
   "outputs": [],
   "source": [
    "for sobaodanh in range(9000, 300000):\n",
    "    start = time.time()\n",
    "\n",
    "    # Access page\n",
    "    driver.get(website_link)\n",
    "\n",
    "    access_done = time.time()\n",
    "\n",
    "    # Fill in sobaodanh\n",
    "    sobaodanh_field = driver.find_element('xpath', '//*[@id=\"SoBaoDanh\"]')\n",
    "    sobaodanh_field.send_keys(str(sobaodanh))\n",
    "    button = driver.find_element('xpath', '//*[@id=\"searchForm\"]/div[2]/div/button')\n",
    "    button.click()\n",
    "\n",
    "    filling_done = time.time()\n",
    "\n",
    "    time.sleep(1)\n",
    "\n",
    "    sleep_done = time.time()\n",
    "\n",
    "    # Get data\n",
    "    try:\n",
    "        name = driver.find_element(\"xpath\", \"/html/body/div/table/tbody/tr[2]/td[1]\").text\n",
    "        score_string = driver.find_element(\"xpath\", \"/html/body/div/table/tbody/tr[2]/td[2]\").text\n",
    "    except:\n",
    "        print(f\"Student ID = {sobaodanh} not found.\")\n",
    "        name = None\n",
    "        score = None\n",
    "    \n",
    "    getdata_done = time.time()\n",
    "\n",
    "    literature_score, mathematic_score, language_score, special_subject_score = handle_score(score_string)\n",
    "\n",
    "    handle_score_done = time.time()\n",
    "\n",
    "    bangdiem_dict[sobaodanh] = {\"SBD\": sobaodanh \n",
    "                                ,\"Ten\": name \n",
    "                                ,\"Thong bao\": score_string \n",
    "                                ,\"Van\": literature_score \n",
    "                                ,\"Toan\": mathematic_score\n",
    "                                ,\"Ngoai Ngu\": language_score\n",
    "                                ,\"Mon Chuyen\": special_subject_score}\n",
    "    \n",
    "    time_dict[sobaodanh] = {\"Access time\" : (access_done - start)\n",
    "                            ,\"Filling time\" : (filling_done - access_done)\n",
    "                            ,\"Sleep time\" : (sleep_done - filling_done)\n",
    "                            ,\"Get data time\" : (getdata_done - sleep_done)\n",
    "                            ,\"Handle data time\" : (handle_score_done - getdata_done)}\n"
   ]
  },
  {
   "cell_type": "code",
   "execution_count": null,
   "metadata": {},
   "outputs": [
    {
     "data": {
      "text/plain": [
       "{9000: {'SBD': 9000,\n",
       "  'Ten': '9000_LƯƠNG THỊ THUÝ AN',\n",
       "  'Thong bao': 'Văn: 6,5 Toán: 5 Ngoại Ngữ: 8,25 Môn Chuyên: 2,5',\n",
       "  'Van': '6,5',\n",
       "  'Toan': '5',\n",
       "  'Ngoai Ngu': '8,25',\n",
       "  'Mon Chuyen': '2,5'},\n",
       " 9001: {'SBD': 9001,\n",
       "  'Ten': '9001_PHẠM BÙI MINH AN',\n",
       "  'Thong bao': 'Văn: Toán: Ngoại Ngữ: Môn Chuyên:',\n",
       "  'Van': None,\n",
       "  'Toan': None,\n",
       "  'Ngoai Ngu': None,\n",
       "  'Mon Chuyen': None},\n",
       " 9002: {'SBD': 9002,\n",
       "  'Ten': '9002_LÊ TUẤN ANH',\n",
       "  'Thong bao': 'Văn: Toán: Ngoại Ngữ: Môn Chuyên:',\n",
       "  'Van': None,\n",
       "  'Toan': None,\n",
       "  'Ngoai Ngu': None,\n",
       "  'Mon Chuyen': None},\n",
       " 9003: {'SBD': 9003,\n",
       "  'Ten': '9003_MAI TRẦN HOÀN ANH',\n",
       "  'Thong bao': 'Văn: Toán: Ngoại Ngữ: Môn Chuyên:',\n",
       "  'Van': None,\n",
       "  'Toan': None,\n",
       "  'Ngoai Ngu': None,\n",
       "  'Mon Chuyen': None},\n",
       " 9004: {'SBD': 9004,\n",
       "  'Ten': '9004_NGUYỄN VÂN ANH',\n",
       "  'Thong bao': 'Văn: 6,5 Toán: 5,75 Ngoại Ngữ: 7,75 Môn Chuyên: 1,75',\n",
       "  'Van': '6,5',\n",
       "  'Toan': '5,75',\n",
       "  'Ngoai Ngu': '7,75',\n",
       "  'Mon Chuyen': '1,75'}}"
      ]
     },
     "execution_count": 21,
     "metadata": {},
     "output_type": "execute_result"
    }
   ],
   "source": [
    "# bangdiem_dict"
   ]
  }
 ],
 "metadata": {
  "kernelspec": {
   "display_name": "Python 3",
   "language": "python",
   "name": "python3"
  },
  "language_info": {
   "codemirror_mode": {
    "name": "ipython",
    "version": 3
   },
   "file_extension": ".py",
   "mimetype": "text/x-python",
   "name": "python",
   "nbconvert_exporter": "python",
   "pygments_lexer": "ipython3",
   "version": "3.11.4"
  },
  "orig_nbformat": 4
 },
 "nbformat": 4,
 "nbformat_minor": 2
}
